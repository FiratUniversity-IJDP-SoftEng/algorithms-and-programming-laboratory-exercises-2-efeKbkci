{
  "cells": [
    {
      "cell_type": "markdown",
      "metadata": {
        "id": "ytbzyl3rnDRY"
      },
      "source": [
        "# Python Turtle Exercises\n",
        "\n",
        "This assignment aims to improve your algorithmic skills by drawing various geometric patterns using the Python Turtle library.  \n",
        "Each exercise includes a description and a code cell for your solutions.\n",
        "\n",
        "# Exercise 1: Drawing a Star\n",
        "## Description:\n",
        "Design an algorithm to draw a five-pointed star. Calculate the angle and line length correctly."
      ]
    },
    {
      "cell_type": "code",
      "execution_count": 1,
      "metadata": {
        "id": "3uUSg4xJnUAw"
      },
      "outputs": [],
      "source": [
        "import turtle\n",
        "\n",
        "screen = turtle.getscreen()\n",
        "myTurtle = turtle.Turtle()\n",
        "\n",
        "def drawStar():\n",
        "    LENGHT = 150\n",
        "\n",
        "    myTurtle.fd(LENGHT)\n",
        "    for _ in range(4):\n",
        "        myTurtle.right(144)\n",
        "        myTurtle.fd(LENGHT)\n",
        "\n",
        "if __name__ == \"__main__\":\n",
        "    drawStar()\n",
        "    screen.mainloop()"
      ]
    },
    {
      "cell_type": "markdown",
      "metadata": {
        "id": "tGUI2TbgnZYu"
      },
      "source": [
        "# Exercise 2: Drawing a Spiral Square\n",
        "## Description:\n",
        "Design an algorithm to draw a spiral square with increasing side lengths. Consider how to change the turtle's turning angle and movement distance after each square."
      ]
    },
    {
      "cell_type": "code",
      "execution_count": 7,
      "metadata": {
        "id": "UAinAy64neJ9"
      },
      "outputs": [],
      "source": [
        "import turtle\n",
        "\n",
        "screen = turtle.getscreen()\n",
        "myTurtle = turtle.Turtle()\n",
        "\n",
        "def drawSpiralSquare():\n",
        "\n",
        "    lenght = 10\n",
        "\n",
        "    for _ in range(19):        \n",
        "        myTurtle.forward(lenght)\n",
        "        myTurtle.right(90) \n",
        "        lenght += 10 \n",
        "\n",
        "if __name__ == \"__main__\":\n",
        "    drawSpiralSquare()\n",
        "    screen.mainloop()"
      ]
    },
    {
      "cell_type": "markdown",
      "metadata": {
        "id": "9u3aYlazngbx"
      },
      "source": [
        "# Exercise 3: Drawing Nested Polygons\n",
        "## Description:\n",
        "Design an algorithm to draw nested polygons with the same center and number of sides. Consider how to adjust the size of each polygon and position the turtle while drawing."
      ]
    },
    {
      "cell_type": "code",
      "execution_count": 34,
      "metadata": {
        "id": "GvJ5VlvJnoDz"
      },
      "outputs": [],
      "source": [
        "import turtle\n",
        "import math\n",
        "\n",
        "screen = turtle.getscreen()\n",
        "myTurtle = turtle.Turtle()\n",
        "\n",
        "def drawPolygon(n, lenght = 100):\n",
        "\n",
        "    radius = (n-2) * 180 / n\n",
        "\n",
        "    for _ in range(n): \n",
        "        myTurtle.forward(lenght)           \n",
        "        myTurtle.left(180 - radius)\n",
        "\n",
        "def goInside(x, angle):\n",
        "    myTurtle.up()\n",
        "    myTurtle.home()\n",
        "    myTurtle.left(angle)\n",
        "    myTurtle.forward(x)\n",
        "    myTurtle.right(angle)\n",
        "    myTurtle.down()\n",
        "\n",
        "def drawNestedPolygons():\n",
        "\n",
        "    START_LENGHT = 150\n",
        "    SIDE_NUMBER = 10\n",
        "    HALF_DIAMETER = START_LENGHT / math.sin(math.pi / SIDE_NUMBER) / 2\n",
        "    INNER_ANGLE = (SIDE_NUMBER - 2) * 180 / SIDE_NUMBER\n",
        "\n",
        "    for ratio in range(9, 2, -1):\n",
        "        lenght = START_LENGHT * ratio / 10\n",
        "        drawPolygon(SIDE_NUMBER, lenght)\n",
        "\n",
        "        x = HALF_DIAMETER - (HALF_DIAMETER * (lenght / START_LENGHT))\n",
        "\n",
        "        goInside(x, INNER_ANGLE / 2)\n",
        "\n",
        "if __name__ == \"__main__\":\n",
        "    drawNestedPolygons()\n",
        "    screen.mainloop()"
      ]
    },
    {
      "cell_type": "markdown",
      "metadata": {
        "id": "w4S_F7XJnpYI"
      },
      "source": [
        "# Exercise 4: Drawing a Colorful Spiral\n",
        "## Description:\n",
        "Design an algorithm to draw a spiral using different colors. Consider how to change the color at each step and create the spiral shape."
      ]
    },
    {
      "cell_type": "code",
      "execution_count": 3,
      "metadata": {
        "id": "e4KCcVxpnuUn"
      },
      "outputs": [],
      "source": [
        "import turtle\n",
        "\n",
        "screen = turtle.getscreen()\n",
        "myTurtle = turtle.Turtle()\n",
        "\n",
        "colors = (\"purple\", \"blue\", \"red\", \"orange\", \"pink\")\n",
        "\n",
        "def drawSpiralSquare():\n",
        "\n",
        "    lenght = 10\n",
        "    for color in colors:\n",
        "        myTurtle.pencolor(color)\n",
        "        for _ in range(4):        \n",
        "            myTurtle.forward(lenght)\n",
        "            myTurtle.right(90) \n",
        "            lenght += 10 \n",
        "\n",
        "if __name__ == \"__main__\":\n",
        "    drawSpiralSquare()\n",
        "    screen.mainloop()"
      ]
    },
    {
      "cell_type": "markdown",
      "metadata": {
        "id": "U4JZEptVn74m"
      },
      "source": [
        "# Exercise 5: Drawing a Random Pattern\n",
        "## Description:\n",
        "Design an algorithm to create an interesting pattern by randomly changing the turtle's movements and properties (color, thickness, etc.). Think about how to use randomness and vary different parameters."
      ]
    },
    {
      "cell_type": "code",
      "execution_count": 5,
      "metadata": {
        "id": "4nk33NI8m9s1"
      },
      "outputs": [],
      "source": [
        "import turtle\n",
        "import random\n",
        "\n",
        "screen = turtle.getscreen()\n",
        "myTurtle = turtle.Turtle()\n",
        "\n",
        "colors = (\"purple\", \"blue\", \"red\", \"orange\", \"magenta\")\n",
        "penSize = (1, 2, 3, 4)\n",
        "angles = [angle * 10 for angle in range(37)]\n",
        "distances = [distance * 20 for distance in range(5)]\n",
        "motions = (myTurtle.fd, myTurtle.bk)\n",
        "orientations = (myTurtle.right, myTurtle.left)\n",
        "\n",
        "def drawRandomShape():\n",
        "\n",
        "    r = random.randint\n",
        "    \n",
        "    for _ in range(40):\n",
        "        color = colors[r(0, 4)]\n",
        "        size = penSize[r(0, 3)]\n",
        "        angle = angles[r(0, 36)]\n",
        "        distance = distances[r(0, 4)]\n",
        "        motion = motions[r(0, 1)]\n",
        "        orientation = orientations[r(0, 1)]\n",
        "\n",
        "        myTurtle.pen(pencolor = color, pensize = size)\n",
        "        orientation(angle)\n",
        "        motion(distance)\n",
        "\n",
        "if __name__ == \"__main__\":\n",
        "    drawRandomShape()\n",
        "    screen.mainloop()"
      ]
    }
  ],
  "metadata": {
    "accelerator": "GPU",
    "colab": {
      "gpuType": "T4",
      "provenance": []
    },
    "kernelspec": {
      "display_name": "Python 3",
      "language": "python",
      "name": "python3"
    },
    "language_info": {
      "codemirror_mode": {
        "name": "ipython",
        "version": 3
      },
      "file_extension": ".py",
      "mimetype": "text/x-python",
      "name": "python",
      "nbconvert_exporter": "python",
      "pygments_lexer": "ipython3",
      "version": "3.12.1"
    }
  },
  "nbformat": 4,
  "nbformat_minor": 0
}
